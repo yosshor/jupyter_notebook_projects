{
 "cells": [
  {
   "cell_type": "markdown",
   "metadata": {},
   "source": [
    "# PyTorch from scratch"
   ]
  },
  {
   "cell_type": "markdown",
   "metadata": {},
   "source": [
    "importing the libraries"
   ]
  },
  {
   "cell_type": "code",
   "execution_count": 47,
   "metadata": {},
   "outputs": [],
   "source": [
    "import numpy as np\n",
    "import torch\n",
    "import pandas as pd"
   ]
  },
  {
   "cell_type": "markdown",
   "metadata": {},
   "source": []
  },
  {
   "cell_type": "code",
   "execution_count": 48,
   "metadata": {},
   "outputs": [
    {
     "name": "stdout",
     "output_type": "stream",
     "text": [
      "1\n",
      "tensor(1)\n"
     ]
    }
   ],
   "source": [
    "#initialazing a numpy array\n",
    "a = np.array(1)\n",
    "#initializing a tensor \n",
    "b = torch.tensor(1)\n",
    "print(a)\n",
    "print(b)\n",
    "print(a, b)"
   ]
  },
  {
   "cell_type": "code",
   "execution_count": 49,
   "metadata": {},
   "outputs": [
    {
     "data": {
      "text/plain": [
       "(numpy.ndarray, torch.Tensor)"
      ]
     },
     "execution_count": 49,
     "metadata": {},
     "output_type": "execute_result"
    }
   ],
   "source": [
    "type(a), type(b)"
   ]
  },
  {
   "cell_type": "code",
   "execution_count": 50,
   "metadata": {},
   "outputs": [
    {
     "name": "stdout",
     "output_type": "stream",
     "text": [
      "[2 4 5] [1 3 6]\n"
     ]
    }
   ],
   "source": [
    "# initializing two arrays\n",
    "a = np.array([2, 4, 5])\n",
    "b = np.array([1, 3, 6])\n",
    "print(a,b)"
   ]
  },
  {
   "cell_type": "code",
   "execution_count": 51,
   "metadata": {},
   "outputs": [
    {
     "name": "stdout",
     "output_type": "stream",
     "text": [
      "[ 3  7 11]\n",
      "[-1 -1  1]\n",
      "[ 2 12 30]\n",
      "[2.         1.33333333 0.83333333]\n"
     ]
    }
   ],
   "source": [
    "# addition\n",
    "print(a+b)\n",
    "\n",
    "# subtraction\n",
    "print(b-a)\n",
    "\n",
    "# multiplication\n",
    "print(a*b)\n",
    "\n",
    "# division\n",
    "print(a/b)"
   ]
  },
  {
   "cell_type": "code",
   "execution_count": 52,
   "metadata": {},
   "outputs": [
    {
     "name": "stdout",
     "output_type": "stream",
     "text": [
      "tensor([2, 3, 2]) tensor([1, 3, 8])\n"
     ]
    }
   ],
   "source": [
    "# initializing two tensors with PyTorch\n",
    "a = torch.tensor([2, 3, 2])\n",
    "b = torch.tensor([1, 3, 8])\n",
    "print(a,b)"
   ]
  },
  {
   "cell_type": "code",
   "execution_count": 53,
   "metadata": {},
   "outputs": [
    {
     "name": "stdout",
     "output_type": "stream",
     "text": [
      "tensor([ 3,  6, 10])\n",
      "tensor([-1,  0,  6])\n",
      "tensor([ 2,  9, 16])\n",
      "tensor([2, 1, 0])\n"
     ]
    }
   ],
   "source": [
    "# addition\n",
    "print(a+b)\n",
    "\n",
    "# subtraction\n",
    "print(b-a)\n",
    "\n",
    "# multiplication\n",
    "print(a*b)\n",
    "\n",
    "# division\n",
    "print(a/b)"
   ]
  },
  {
   "cell_type": "code",
   "execution_count": 54,
   "metadata": {},
   "outputs": [
    {
     "name": "stdout",
     "output_type": "stream",
     "text": [
      "[[0. 0. 0.]\n",
      " [0. 0. 0.]\n",
      " [0. 0. 0.]]\n",
      "(3, 3)\n"
     ]
    }
   ],
   "source": [
    "# matrix of zeros\n",
    "a = np.zeros((3,3))\n",
    "print(a)\n",
    "print(a.shape)"
   ]
  },
  {
   "cell_type": "code",
   "execution_count": 55,
   "metadata": {},
   "outputs": [
    {
     "name": "stdout",
     "output_type": "stream",
     "text": [
      "tensor([[0., 0., 0.],\n",
      "        [0., 0., 0.],\n",
      "        [0., 0., 0.]])\n",
      "torch.Size([3, 3])\n"
     ]
    }
   ],
   "source": [
    "\n",
    "# matrix of zeros\n",
    "a = torch.zeros((3,3))\n",
    "print(a)\n",
    "print(a.shape)"
   ]
  },
  {
   "cell_type": "code",
   "execution_count": 56,
   "metadata": {},
   "outputs": [
    {
     "name": "stdout",
     "output_type": "stream",
     "text": [
      "[[ 0.49671415 -0.1382643   0.64768854]\n",
      " [ 1.52302986 -0.23415337 -0.23413696]\n",
      " [ 1.57921282  0.76743473 -0.46947439]]\n"
     ]
    },
    {
     "data": {
      "text/plain": [
       "(3, 3)"
      ]
     },
     "execution_count": 56,
     "metadata": {},
     "output_type": "execute_result"
    }
   ],
   "source": [
    "# setting the random seed for numpy\n",
    "np.random.seed(42)\n",
    "# matrix of random numbers\n",
    "a = np.random.randn(3,3)\n",
    "print(a)\n",
    "a.shape"
   ]
  },
  {
   "cell_type": "code",
   "execution_count": 57,
   "metadata": {},
   "outputs": [
    {
     "name": "stdout",
     "output_type": "stream",
     "text": [
      "tensor([[ 0.3367,  0.1288,  0.2345],\n",
      "        [ 0.2303, -1.1229, -0.1863],\n",
      "        [ 2.2082, -0.6380,  0.4617]])\n"
     ]
    },
    {
     "data": {
      "text/plain": [
       "torch.Size([3, 3])"
      ]
     },
     "execution_count": 57,
     "metadata": {},
     "output_type": "execute_result"
    }
   ],
   "source": [
    "# setting the random seed for pytorch\n",
    "torch.manual_seed(42)\n",
    "# matrix of random numbers\n",
    "a = torch.randn(3,3)\n",
    "print(a)\n",
    "a.shape"
   ]
  },
  {
   "cell_type": "markdown",
   "metadata": {},
   "source": [
    "# Matrix Operations"
   ]
  },
  {
   "cell_type": "code",
   "execution_count": 58,
   "metadata": {},
   "outputs": [],
   "source": [
    "# setting the random seed for numpy and initializing two matrices\n",
    "np.random.seed(42)\n",
    "a = np.random.randn(3,3)\n",
    "b = np.random.randn(3,3)"
   ]
  },
  {
   "cell_type": "code",
   "execution_count": 59,
   "metadata": {},
   "outputs": [
    {
     "name": "stdout",
     "output_type": "stream",
     "text": [
      "[[ 1.0392742  -0.60168199  0.18195878]\n",
      " [ 1.76499213 -2.14743362 -1.95905479]\n",
      " [ 1.01692529 -0.24539639 -0.15522705]] \n",
      "\n",
      "[[-0.04584589  0.32515339  1.11341829]\n",
      " [ 1.28106758  1.67912687  1.49078088]\n",
      " [ 2.14150034  1.78026585 -0.78372172]] \n",
      "\n",
      "[[-0.12814468 -0.62164688  0.21069439]\n",
      " [ 0.90133115 -0.02065676 -0.3790019 ]\n",
      " [ 1.30648762 -1.7246546  -2.20677932]] \n",
      "\n",
      "[[ 0.9155008   0.29835784 -1.39069607]\n",
      " [ 6.29449313  0.12238321  0.13573803]\n",
      " [-2.80855031 -0.75771243 -1.49396459]]\n"
     ]
    }
   ],
   "source": [
    "# matrix addition\n",
    "print(np.add(a,b), '\\n')\n",
    "\n",
    "# matrix subtraction\n",
    "print(np.subtract(a,b), '\\n')\n",
    "\n",
    "# matrix multiplication\n",
    "print(np.dot(a,b), '\\n')\n",
    "\n",
    "# matrix multiplication\n",
    "print(np.divide(a,b))"
   ]
  },
  {
   "cell_type": "code",
   "execution_count": 60,
   "metadata": {},
   "outputs": [
    {
     "name": "stdout",
     "output_type": "stream",
     "text": [
      "[[ 0.49671415 -0.1382643   0.64768854]\n",
      " [ 1.52302986 -0.23415337 -0.23413696]\n",
      " [ 1.57921282  0.76743473 -0.46947439]] \n",
      "\n",
      "[[ 0.49671415  1.52302986  1.57921282]\n",
      " [-0.1382643  -0.23415337  0.76743473]\n",
      " [ 0.64768854 -0.23413696 -0.46947439]]\n"
     ]
    }
   ],
   "source": [
    "# original matrix\n",
    "print(a, '\\n')\n",
    "\n",
    "# matrix transpose\n",
    "print(np.transpose(a)) # or a.T"
   ]
  },
  {
   "cell_type": "code",
   "execution_count": 61,
   "metadata": {},
   "outputs": [
    {
     "name": "stdout",
     "output_type": "stream",
     "text": [
      "tensor([[-0.4985, -0.2157,  2.1619],\n",
      "        [ 1.7966, -2.0176, -0.1940],\n",
      "        [ 1.2395,  1.3783,  1.3399]]) \n",
      "\n",
      "tensor([[ 1.0332,  1.2855, -0.5432],\n",
      "        [ 0.4240, -1.3620, -1.7839],\n",
      "        [ 0.6765,  1.2660,  0.2945]]) \n",
      "\n",
      "tensor([[ 0.3902, -0.3305,  1.2099],\n",
      "        [-2.2885, -0.3351, -0.3586],\n",
      "        [ 0.4038, -1.1065,  2.7739]]) \n",
      "\n",
      "tensor([[-0.3491, -0.7126,  0.5984],\n",
      "        [ 1.6177,  5.1556, -1.2440],\n",
      "        [ 3.4029, 23.5408,  1.5634]])\n"
     ]
    }
   ],
   "source": [
    "# matrix addition\n",
    "a = torch.randn(3, 3)\n",
    "b = torch.randn(3, 3)\n",
    "print(torch.add(a,b), '\\n')\n",
    "\n",
    "# matrix subtraction\n",
    "print(torch.sub(a,b), '\\n')\n",
    "\n",
    "# matrix multiplication\n",
    "print(torch.mm(a,b), '\\n')\n",
    "\n",
    "# matrix division\n",
    "print(torch.div(a,b))"
   ]
  },
  {
   "cell_type": "code",
   "execution_count": 62,
   "metadata": {},
   "outputs": [
    {
     "name": "stdout",
     "output_type": "stream",
     "text": [
      "tensor([[ 0.2674,  0.5349,  0.8094],\n",
      "        [ 1.1103, -1.6898, -0.9890],\n",
      "        [ 0.9580,  1.3221,  0.8172]]) \n",
      "\n"
     ]
    },
    {
     "data": {
      "text/plain": [
       "tensor([[ 0.2674,  1.1103,  0.9580],\n",
       "        [ 0.5349, -1.6898,  1.3221],\n",
       "        [ 0.8094, -0.9890,  0.8172]])"
      ]
     },
     "execution_count": 62,
     "metadata": {},
     "output_type": "execute_result"
    }
   ],
   "source": [
    "#original matrix\n",
    "print(a, '\\n')\n",
    "\n",
    "# matrix transpose\n",
    "torch.t(a)\n"
   ]
  },
  {
   "cell_type": "markdown",
   "metadata": {},
   "source": [
    "# Concatenating Tensors"
   ]
  },
  {
   "cell_type": "markdown",
   "metadata": {},
   "source": [
    "#initializing two tensors\n",
    "a = torch.tensor([[1, 2], [3, 4]])\n",
    "\n",
    "b = torch.tensor([[5, 6],[7, 8]])\n",
    "\n",
    "print(a, '\\n')\n",
    "\n",
    "b"
   ]
  },
  {
   "cell_type": "code",
   "execution_count": 64,
   "metadata": {},
   "outputs": [
    {
     "data": {
      "text/plain": [
       "tensor([[1, 2],\n",
       "        [3, 4],\n",
       "        [5, 6],\n",
       "        [7, 8]])"
      ]
     },
     "execution_count": 64,
     "metadata": {},
     "output_type": "execute_result"
    }
   ],
   "source": [
    "# concatenating vertically\n",
    "\n",
    "torch.cat((a, b))"
   ]
  },
  {
   "cell_type": "code",
   "execution_count": 65,
   "metadata": {},
   "outputs": [
    {
     "data": {
      "text/plain": [
       "tensor([[1, 2, 5, 6],\n",
       "        [3, 4, 7, 8]])"
      ]
     },
     "execution_count": 65,
     "metadata": {},
     "output_type": "execute_result"
    }
   ],
   "source": [
    "# concatenating horizontally\n",
    "\n",
    "torch.cat((a, b), dim = 1)"
   ]
  },
  {
   "cell_type": "markdown",
   "metadata": {},
   "source": [
    "# Reshaping Tensors"
   ]
  },
  {
   "cell_type": "code",
   "execution_count": 73,
   "metadata": {
    "scrolled": true
   },
   "outputs": [
    {
     "name": "stdout",
     "output_type": "stream",
     "text": [
      "tensor([[-0.5706,  1.5980,  0.1115, -0.0392],\n",
      "        [ 1.4112, -0.6556,  0.8576, -1.6270]])\n",
      "torch.Size([2, 4]) \n",
      "\n",
      "tensor([[-0.5706,  1.5980,  0.1115, -0.0392,  1.4112, -0.6556,  0.8576, -1.6270]])\n",
      "torch.Size([1, 8]) \n",
      "\n"
     ]
    }
   ],
   "source": [
    "# reshaping tensor\n",
    "\n",
    "a = torch.randn(2, 4)\n",
    "print(a)\n",
    "print(a.shape, '\\n')\n",
    "\n",
    "b = a.reshape(1, 8)\n",
    "print(b)\n",
    "print(b.shape, '\\n')"
   ]
  },
  {
   "cell_type": "code",
   "execution_count": 74,
   "metadata": {},
   "outputs": [
    {
     "data": {
      "text/plain": [
       "tensor([[1., 1.],\n",
       "        [1., 1.]], requires_grad=True)"
      ]
     },
     "execution_count": 74,
     "metadata": {},
     "output_type": "execute_result"
    }
   ],
   "source": [
    "# initializing a tensor\n",
    "\n",
    "a = torch.ones((2,2), requires_grad=True)\n",
    "\n",
    "a"
   ]
  },
  {
   "cell_type": "code",
   "execution_count": 77,
   "metadata": {},
   "outputs": [
    {
     "data": {
      "text/plain": [
       "tensor([[6., 6.],\n",
       "        [6., 6.]], grad_fn=<AddBackward0>)"
      ]
     },
     "execution_count": 77,
     "metadata": {},
     "output_type": "execute_result"
    }
   ],
   "source": [
    "b = a + 5\n",
    "b"
   ]
  },
  {
   "cell_type": "code",
   "execution_count": 79,
   "metadata": {},
   "outputs": [
    {
     "data": {
      "text/plain": [
       "torch.Size([])"
      ]
     },
     "execution_count": 79,
     "metadata": {},
     "output_type": "execute_result"
    }
   ],
   "source": [
    "c = torch.mean(b)\n",
    "\n",
    "c.shape"
   ]
  }
 ],
 "metadata": {
  "celltoolbar": "Slideshow",
  "kernelspec": {
   "display_name": "Python 3",
   "language": "python",
   "name": "python3"
  },
  "language_info": {
   "codemirror_mode": {
    "name": "ipython",
    "version": 3
   },
   "file_extension": ".py",
   "mimetype": "text/x-python",
   "name": "python",
   "nbconvert_exporter": "python",
   "pygments_lexer": "ipython3",
   "version": "3.7.3"
  }
 },
 "nbformat": 4,
 "nbformat_minor": 2
}
