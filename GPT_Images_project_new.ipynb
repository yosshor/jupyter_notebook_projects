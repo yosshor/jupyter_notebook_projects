{
  "nbformat": 4,
  "nbformat_minor": 0,
  "metadata": {
    "colab": {
      "provenance": [],
      "mount_file_id": "1F3wkhtG9CUOWfo5UNbvH7_nRzj3eFf37",
      "authorship_tag": "ABX9TyNriaHN69One51G2Fx2U5GX",
      "include_colab_link": true
    },
    "kernelspec": {
      "name": "python3",
      "display_name": "Python 3"
    },
    "language_info": {
      "name": "python"
    }
  },
  "cells": [
    {
      "cell_type": "markdown",
      "metadata": {
        "id": "view-in-github",
        "colab_type": "text"
      },
      "source": [
        "<a href=\"https://colab.research.google.com/github/yosshor/jupyter_notebook_projects/blob/master/GPT_Images_project_new.ipynb\" target=\"_parent\"><img src=\"https://colab.research.google.com/assets/colab-badge.svg\" alt=\"Open In Colab\"/></a>"
      ]
    },
    {
      "cell_type": "markdown",
      "source": [
        "### Bot Name 'nayabigdataengineer'\n"
      ],
      "metadata": {
        "id": "0qXVmv9JW3j5"
      }
    },
    {
      "cell_type": "code",
      "execution_count": 1,
      "metadata": {
        "colab": {
          "base_uri": "https://localhost:8080/",
          "height": 1000
        },
        "id": "I6qlToLHWk0X",
        "outputId": "d5242686-12bc-439e-8516-1ae5dc1250a7"
      },
      "outputs": [
        {
          "output_type": "stream",
          "name": "stdout",
          "text": [
            "\u001b[?25l\r\u001b[K     |███████▎                        | 10 kB 23.5 MB/s eta 0:00:01\r\u001b[K     |██████████████▋                 | 20 kB 30.0 MB/s eta 0:00:01\r\u001b[K     |██████████████████████          | 30 kB 17.2 MB/s eta 0:00:01\r\u001b[K     |█████████████████████████████▏  | 40 kB 8.1 MB/s eta 0:00:01\r\u001b[K     |████████████████████████████████| 44 kB 2.5 MB/s \n",
            "\u001b[?25h  Installing build dependencies ... \u001b[?25l\u001b[?25hdone\n",
            "  Getting requirements to build wheel ... \u001b[?25l\u001b[?25hdone\n",
            "    Preparing wheel metadata ... \u001b[?25l\u001b[?25hdone\n",
            "\u001b[K     |████████████████████████████████| 147 kB 15.1 MB/s \n",
            "\u001b[?25h  Building wheel for openai (PEP 517) ... \u001b[?25l\u001b[?25hdone\n",
            "\u001b[K     |████████████████████████████████| 13.8 MB 6.7 MB/s \n",
            "\u001b[K     |████████████████████████████████| 278 kB 58.8 MB/s \n",
            "\u001b[K     |████████████████████████████████| 56 kB 3.7 MB/s \n",
            "\u001b[K     |████████████████████████████████| 86 kB 4.8 MB/s \n",
            "\u001b[K     |████████████████████████████████| 2.3 MB 65.0 MB/s \n",
            "\u001b[K     |████████████████████████████████| 55 kB 4.8 MB/s \n",
            "\u001b[K     |████████████████████████████████| 84 kB 4.1 MB/s \n",
            "\u001b[K     |████████████████████████████████| 106 kB 84.7 MB/s \n",
            "\u001b[K     |████████████████████████████████| 64 kB 3.3 MB/s \n",
            "\u001b[K     |████████████████████████████████| 80 kB 11.0 MB/s \n",
            "\u001b[K     |████████████████████████████████| 69 kB 6.4 MB/s \n",
            "\u001b[K     |████████████████████████████████| 58 kB 7.4 MB/s \n",
            "\u001b[K     |████████████████████████████████| 50 kB 8.1 MB/s \n",
            "\u001b[?25h  Building wheel for ffmpy (setup.py) ... \u001b[?25l\u001b[?25hdone\n",
            "  Building wheel for python-multipart (setup.py) ... \u001b[?25l\u001b[?25hdone\n",
            "Looking in indexes: https://pypi.org/simple, https://us-python.pkg.dev/colab-wheels/public/simple/\n",
            "Collecting pyTelegramBotAPI\n",
            "  Downloading pyTelegramBotAPI-4.9.0.tar.gz (219 kB)\n",
            "\u001b[K     |████████████████████████████████| 219 kB 7.6 MB/s \n",
            "\u001b[?25hRequirement already satisfied: requests in /usr/local/lib/python3.8/dist-packages (from pyTelegramBotAPI) (2.23.0)\n",
            "Requirement already satisfied: chardet<4,>=3.0.2 in /usr/local/lib/python3.8/dist-packages (from requests->pyTelegramBotAPI) (3.0.4)\n",
            "Requirement already satisfied: certifi>=2017.4.17 in /usr/local/lib/python3.8/dist-packages (from requests->pyTelegramBotAPI) (2022.12.7)\n",
            "Requirement already satisfied: urllib3!=1.25.0,!=1.25.1,<1.26,>=1.21.1 in /usr/local/lib/python3.8/dist-packages (from requests->pyTelegramBotAPI) (1.24.3)\n",
            "Requirement already satisfied: idna<3,>=2.5 in /usr/local/lib/python3.8/dist-packages (from requests->pyTelegramBotAPI) (2.10)\n",
            "Building wheels for collected packages: pyTelegramBotAPI\n",
            "  Building wheel for pyTelegramBotAPI (setup.py) ... \u001b[?25l\u001b[?25hdone\n",
            "  Created wheel for pyTelegramBotAPI: filename=pyTelegramBotAPI-4.9.0-py3-none-any.whl size=203107 sha256=59764f4cbc47003feab7bdfa551b01c112d039a0426ad9df5a90446d786a9f38\n",
            "  Stored in directory: /root/.cache/pip/wheels/95/a7/fd/f667b71e29e3f64f239f30195efc39de642e72f8a47a6fcd8d\n",
            "Successfully built pyTelegramBotAPI\n",
            "Installing collected packages: pyTelegramBotAPI\n",
            "Successfully installed pyTelegramBotAPI-4.9.0\n",
            "Looking in indexes: https://pypi.org/simple, https://us-python.pkg.dev/colab-wheels/public/simple/\n",
            "Collecting Google-Images-Search\n",
            "  Downloading Google_Images_Search-1.4.6-py2.py3-none-any.whl (12 kB)\n",
            "Collecting pyfiglet~=0.8\n",
            "  Downloading pyfiglet-0.8.post1-py2.py3-none-any.whl (865 kB)\n",
            "\u001b[K     |████████████████████████████████| 865 kB 6.2 MB/s \n",
            "\u001b[?25hRequirement already satisfied: click>=7.0<=8.1.* in /usr/local/lib/python3.8/dist-packages (from Google-Images-Search) (7.1.2)\n",
            "Requirement already satisfied: six~=1.12 in /usr/local/lib/python3.8/dist-packages (from Google-Images-Search) (1.15.0)\n",
            "Requirement already satisfied: requests~=2.21 in /usr/local/lib/python3.8/dist-packages (from Google-Images-Search) (2.23.0)\n",
            "Collecting python-resize-image~=1.1\n",
            "  Downloading python_resize_image-1.1.20-py2.py3-none-any.whl (8.4 kB)\n",
            "Collecting colorama~=0.4\n",
            "  Downloading colorama-0.4.6-py2.py3-none-any.whl (25 kB)\n",
            "Collecting termcolor~=1.1\n",
            "  Downloading termcolor-1.1.0.tar.gz (3.9 kB)\n",
            "Collecting Pillow>=8.1.1\n",
            "  Downloading Pillow-9.4.0-cp38-cp38-manylinux_2_17_x86_64.manylinux2014_x86_64.whl (3.3 MB)\n",
            "\u001b[K     |████████████████████████████████| 3.3 MB 49.4 MB/s \n",
            "\u001b[?25hCollecting google-api-python-client~=2.48.0\n",
            "  Downloading google_api_python_client-2.48.0-py2.py3-none-any.whl (8.5 MB)\n",
            "\u001b[K     |████████████████████████████████| 8.5 MB 66.9 MB/s \n",
            "\u001b[?25hRequirement already satisfied: httplib2<1dev,>=0.15.0 in /usr/local/lib/python3.8/dist-packages (from google-api-python-client~=2.48.0->Google-Images-Search) (0.17.4)\n",
            "Collecting google-auth-httplib2>=0.1.0\n",
            "  Downloading google_auth_httplib2-0.1.0-py2.py3-none-any.whl (9.3 kB)\n",
            "Requirement already satisfied: uritemplate<5,>=3.0.1 in /usr/local/lib/python3.8/dist-packages (from google-api-python-client~=2.48.0->Google-Images-Search) (3.0.1)\n",
            "Requirement already satisfied: google-auth<3.0.0dev,>=1.16.0 in /usr/local/lib/python3.8/dist-packages (from google-api-python-client~=2.48.0->Google-Images-Search) (2.15.0)\n",
            "Requirement already satisfied: google-api-core!=2.0.*,!=2.1.*,!=2.2.*,!=2.3.0,<3.0.0dev,>=1.31.5 in /usr/local/lib/python3.8/dist-packages (from google-api-python-client~=2.48.0->Google-Images-Search) (2.8.2)\n",
            "Requirement already satisfied: protobuf<5.0.0dev,>=3.15.0 in /usr/local/lib/python3.8/dist-packages (from google-api-core!=2.0.*,!=2.1.*,!=2.2.*,!=2.3.0,<3.0.0dev,>=1.31.5->google-api-python-client~=2.48.0->Google-Images-Search) (3.19.6)\n",
            "Requirement already satisfied: googleapis-common-protos<2.0dev,>=1.56.2 in /usr/local/lib/python3.8/dist-packages (from google-api-core!=2.0.*,!=2.1.*,!=2.2.*,!=2.3.0,<3.0.0dev,>=1.31.5->google-api-python-client~=2.48.0->Google-Images-Search) (1.57.0)\n",
            "Requirement already satisfied: pyasn1-modules>=0.2.1 in /usr/local/lib/python3.8/dist-packages (from google-auth<3.0.0dev,>=1.16.0->google-api-python-client~=2.48.0->Google-Images-Search) (0.2.8)\n",
            "Requirement already satisfied: cachetools<6.0,>=2.0.0 in /usr/local/lib/python3.8/dist-packages (from google-auth<3.0.0dev,>=1.16.0->google-api-python-client~=2.48.0->Google-Images-Search) (5.2.0)\n",
            "Requirement already satisfied: rsa<5,>=3.1.4 in /usr/local/lib/python3.8/dist-packages (from google-auth<3.0.0dev,>=1.16.0->google-api-python-client~=2.48.0->Google-Images-Search) (4.9)\n",
            "Requirement already satisfied: pyasn1<0.5.0,>=0.4.6 in /usr/local/lib/python3.8/dist-packages (from pyasn1-modules>=0.2.1->google-auth<3.0.0dev,>=1.16.0->google-api-python-client~=2.48.0->Google-Images-Search) (0.4.8)\n",
            "Requirement already satisfied: chardet<4,>=3.0.2 in /usr/local/lib/python3.8/dist-packages (from requests~=2.21->Google-Images-Search) (3.0.4)\n",
            "Requirement already satisfied: urllib3!=1.25.0,!=1.25.1,<1.26,>=1.21.1 in /usr/local/lib/python3.8/dist-packages (from requests~=2.21->Google-Images-Search) (1.24.3)\n",
            "Requirement already satisfied: certifi>=2017.4.17 in /usr/local/lib/python3.8/dist-packages (from requests~=2.21->Google-Images-Search) (2022.12.7)\n",
            "Requirement already satisfied: idna<3,>=2.5 in /usr/local/lib/python3.8/dist-packages (from requests~=2.21->Google-Images-Search) (2.10)\n",
            "Building wheels for collected packages: termcolor\n",
            "  Building wheel for termcolor (setup.py) ... \u001b[?25l\u001b[?25hdone\n",
            "  Created wheel for termcolor: filename=termcolor-1.1.0-py3-none-any.whl size=4849 sha256=4bf61cef68a1ca5d8754652ddda9d2fbf583130889aeeb50595feef4b4f647eb\n",
            "  Stored in directory: /root/.cache/pip/wheels/a0/16/9c/5473df82468f958445479c59e784896fa24f4a5fc024b0f501\n",
            "Successfully built termcolor\n",
            "Installing collected packages: Pillow, google-auth-httplib2, termcolor, python-resize-image, pyfiglet, google-api-python-client, colorama, Google-Images-Search\n",
            "  Attempting uninstall: Pillow\n",
            "    Found existing installation: Pillow 7.1.2\n",
            "    Uninstalling Pillow-7.1.2:\n",
            "      Successfully uninstalled Pillow-7.1.2\n",
            "  Attempting uninstall: google-auth-httplib2\n",
            "    Found existing installation: google-auth-httplib2 0.0.4\n",
            "    Uninstalling google-auth-httplib2-0.0.4:\n",
            "      Successfully uninstalled google-auth-httplib2-0.0.4\n",
            "  Attempting uninstall: termcolor\n",
            "    Found existing installation: termcolor 2.1.1\n",
            "    Uninstalling termcolor-2.1.1:\n",
            "      Successfully uninstalled termcolor-2.1.1\n",
            "  Attempting uninstall: google-api-python-client\n",
            "    Found existing installation: google-api-python-client 1.12.11\n",
            "    Uninstalling google-api-python-client-1.12.11:\n",
            "      Successfully uninstalled google-api-python-client-1.12.11\n",
            "Successfully installed Google-Images-Search-1.4.6 Pillow-9.4.0 colorama-0.4.6 google-api-python-client-2.48.0 google-auth-httplib2-0.1.0 pyfiglet-0.8.post1 python-resize-image-1.1.20 termcolor-1.1.0\n"
          ]
        },
        {
          "output_type": "display_data",
          "data": {
            "application/vnd.colab-display-data+json": {
              "pip_warning": {
                "packages": [
                  "PIL"
                ]
              }
            }
          },
          "metadata": {}
        },
        {
          "output_type": "stream",
          "name": "stdout",
          "text": [
            "Looking in indexes: https://pypi.org/simple, https://us-python.pkg.dev/colab-wheels/public/simple/\n",
            "Collecting SpeechRecognition\n",
            "  Downloading SpeechRecognition-3.9.0-py2.py3-none-any.whl (32.8 MB)\n",
            "\u001b[K     |████████████████████████████████| 32.8 MB 1.2 MB/s \n",
            "\u001b[?25hCollecting requests>=2.26.0\n",
            "  Downloading requests-2.28.1-py3-none-any.whl (62 kB)\n",
            "\u001b[K     |████████████████████████████████| 62 kB 1.9 MB/s \n",
            "\u001b[?25hRequirement already satisfied: certifi>=2017.4.17 in /usr/local/lib/python3.8/dist-packages (from requests>=2.26.0->SpeechRecognition) (2022.12.7)\n",
            "Requirement already satisfied: charset-normalizer<3,>=2 in /usr/local/lib/python3.8/dist-packages (from requests>=2.26.0->SpeechRecognition) (2.1.1)\n",
            "Requirement already satisfied: urllib3<1.27,>=1.21.1 in /usr/local/lib/python3.8/dist-packages (from requests>=2.26.0->SpeechRecognition) (1.24.3)\n",
            "Requirement already satisfied: idna<4,>=2.5 in /usr/local/lib/python3.8/dist-packages (from requests>=2.26.0->SpeechRecognition) (2.10)\n",
            "Installing collected packages: requests, SpeechRecognition\n",
            "  Attempting uninstall: requests\n",
            "    Found existing installation: requests 2.23.0\n",
            "    Uninstalling requests-2.23.0:\n",
            "      Successfully uninstalled requests-2.23.0\n",
            "Successfully installed SpeechRecognition-3.9.0 requests-2.28.1\n",
            "Looking in indexes: https://pypi.org/simple, https://us-python.pkg.dev/colab-wheels/public/simple/\n",
            "Collecting gTTS\n",
            "  Downloading gTTS-2.3.0-py3-none-any.whl (26 kB)\n",
            "Collecting click~=8.1.3\n",
            "  Downloading click-8.1.3-py3-none-any.whl (96 kB)\n",
            "\u001b[K     |████████████████████████████████| 96 kB 4.6 MB/s \n",
            "\u001b[?25hRequirement already satisfied: requests~=2.28.0 in /usr/local/lib/python3.8/dist-packages (from gTTS) (2.28.1)\n",
            "Collecting six~=1.16.0\n",
            "  Downloading six-1.16.0-py2.py3-none-any.whl (11 kB)\n",
            "Requirement already satisfied: urllib3<1.27,>=1.21.1 in /usr/local/lib/python3.8/dist-packages (from requests~=2.28.0->gTTS) (1.24.3)\n",
            "Requirement already satisfied: charset-normalizer<3,>=2 in /usr/local/lib/python3.8/dist-packages (from requests~=2.28.0->gTTS) (2.1.1)\n",
            "Requirement already satisfied: certifi>=2017.4.17 in /usr/local/lib/python3.8/dist-packages (from requests~=2.28.0->gTTS) (2022.12.7)\n",
            "Requirement already satisfied: idna<4,>=2.5 in /usr/local/lib/python3.8/dist-packages (from requests~=2.28.0->gTTS) (2.10)\n",
            "Installing collected packages: six, click, gTTS\n",
            "  Attempting uninstall: six\n",
            "    Found existing installation: six 1.15.0\n",
            "    Uninstalling six-1.15.0:\n",
            "      Successfully uninstalled six-1.15.0\n",
            "  Attempting uninstall: click\n",
            "    Found existing installation: click 7.1.2\n",
            "    Uninstalling click-7.1.2:\n",
            "      Successfully uninstalled click-7.1.2\n",
            "\u001b[31mERROR: pip's dependency resolver does not currently take into account all the packages that are installed. This behaviour is the source of the following dependency conflicts.\n",
            "ipython 7.9.0 requires jedi>=0.10, which is not installed.\n",
            "flask 1.1.4 requires click<8.0,>=5.1, but you have click 8.1.3 which is incompatible.\u001b[0m\n",
            "Successfully installed click-8.1.3 gTTS-2.3.0 six-1.16.0\n"
          ]
        },
        {
          "output_type": "display_data",
          "data": {
            "application/vnd.colab-display-data+json": {
              "pip_warning": {
                "packages": [
                  "six"
                ]
              }
            }
          },
          "metadata": {}
        },
        {
          "output_type": "stream",
          "name": "stdout",
          "text": [
            "Looking in indexes: https://pypi.org/simple, https://us-python.pkg.dev/colab-wheels/public/simple/\n",
            "Requirement already satisfied: pydub in /usr/local/lib/python3.8/dist-packages (0.25.1)\n",
            "Looking in indexes: https://pypi.org/simple, https://us-python.pkg.dev/colab-wheels/public/simple/\n",
            "Collecting pocketsphinx\n",
            "  Downloading pocketsphinx-5.0.0-cp38-cp38-manylinux_2_17_x86_64.manylinux2014_x86_64.whl (29.1 MB)\n",
            "\u001b[K     |████████████████████████████████| 29.1 MB 1.4 MB/s \n",
            "\u001b[?25hCollecting sounddevice\n",
            "  Downloading sounddevice-0.4.5-py3-none-any.whl (31 kB)\n",
            "Requirement already satisfied: CFFI>=1.0 in /usr/local/lib/python3.8/dist-packages (from sounddevice->pocketsphinx) (1.15.1)\n",
            "Requirement already satisfied: pycparser in /usr/local/lib/python3.8/dist-packages (from CFFI>=1.0->sounddevice->pocketsphinx) (2.21)\n",
            "Installing collected packages: sounddevice, pocketsphinx\n",
            "Successfully installed pocketsphinx-5.0.0 sounddevice-0.4.5\n",
            "Looking in indexes: https://pypi.org/simple, https://us-python.pkg.dev/colab-wheels/public/simple/\n",
            "Requirement already satisfied: pymongo in /usr/local/lib/python3.8/dist-packages (4.3.3)\n",
            "Requirement already satisfied: dnspython<3.0.0,>=1.16.0 in /usr/local/lib/python3.8/dist-packages (from pymongo) (2.2.1)\n"
          ]
        }
      ],
      "source": [
        "!pip install -q openai\n",
        "!pip install -q gradio\n",
        "!pip install pyTelegramBotAPI\n",
        "!pip install Google-Images-Search\n",
        "!pip install SpeechRecognition\n",
        "!pip install gTTS\n",
        "!pip3 install pydub\n",
        "!pip install pocketsphinx\n",
        "!pip install pymongo"
      ]
    },
    {
      "cell_type": "code",
      "source": [
        "import openai\n",
        "import telebot\n",
        "from telebot import types\n",
        "import time\n",
        "import requests\n",
        "import json\n",
        "import numpy as np\n",
        "import pandas as pd\n",
        "import matplotlib.pyplot as plt\n",
        "from datetime import datetime\n",
        "import os\n",
        "import re\n",
        "from google_images_search import GoogleImagesSearch\n",
        "import nltk\n",
        "import random\n",
        "import pprint\n",
        "from nltk import Tree\n",
        "import speech_recognition as sr\n",
        "from gtts import gTTS, lang\n",
        "from os import path\n",
        "from pydub import AudioSegment  \n",
        "from pymongo import MongoClient\n",
        "import string\n",
        "from numpy.random import seed\n",
        "from numpy.random import randint\n",
        "import smtplib\n",
        "from email.mime.multipart import MIMEMultipart\n",
        "from email.mime.base import MIMEBase\n",
        "from email.mime.text import MIMEText\n",
        "from email.utils import COMMASPACE, formatdate\n",
        "from email import encoders\n",
        "\n",
        "nltk.download('punkt')\n",
        "nltk.download('averaged_perceptron_tagger')"
      ],
      "metadata": {
        "colab": {
          "base_uri": "https://localhost:8080/"
        },
        "id": "RFhHBsz0XB11",
        "outputId": "41e5b52b-e989-41b9-95f8-32967ec79836"
      },
      "execution_count": 2,
      "outputs": [
        {
          "output_type": "stream",
          "name": "stderr",
          "text": [
            "[nltk_data] Downloading package punkt to /root/nltk_data...\n",
            "[nltk_data]   Unzipping tokenizers/punkt.zip.\n",
            "[nltk_data] Downloading package averaged_perceptron_tagger to\n",
            "[nltk_data]     /root/nltk_data...\n",
            "[nltk_data]   Unzipping taggers/averaged_perceptron_tagger.zip.\n"
          ]
        },
        {
          "output_type": "execute_result",
          "data": {
            "text/plain": [
              "True"
            ]
          },
          "metadata": {},
          "execution_count": 2
        }
      ]
    },
    {
      "cell_type": "code",
      "source": [
        "!curl ipecho.net/plain"
      ],
      "metadata": {
        "colab": {
          "base_uri": "https://localhost:8080/"
        },
        "id": "CntfbE6UXcEV",
        "outputId": "162a6554-3bb7-4b14-b106-eea2fff9606f"
      },
      "execution_count": 3,
      "outputs": [
        {
          "output_type": "stream",
          "name": "stdout",
          "text": [
            "34.125.100.66"
          ]
        }
      ]
    },
    {
      "cell_type": "code",
      "source": [
        "telid=[]\n",
        "with open('telegram_test_bot_token.txt','r') as f:\n",
        "     telid.append(f.read().split('\\n'))"
      ],
      "metadata": {
        "id": "cqi6Tj-kXhJB"
      },
      "execution_count": 7,
      "outputs": []
    },
    {
      "cell_type": "code",
      "source": [
        "test_token = telid[0][0].split('telegramBot:')[1]\n",
        "openai.api_key = telid[0][1].split('gpt_api:')[1]\n",
        "api_google_image_key = telid[0][2].split('googleSearchImage:')[1]\n",
        "your_project_cx = telid[0][3].split('=')[1]\n",
        "mongo_connecting_str = telid[0][4]\n",
        "email_autenticate = telid[0][5]"
      ],
      "metadata": {
        "id": "Eifpd2-hYc6D"
      },
      "execution_count": 37,
      "outputs": []
    },
    {
      "cell_type": "code",
      "source": [
        "\n",
        "bot_url = f'https://api.telegram.org/bot{test_token}/'  \n",
        "url = bot_url + f'getUpdates'\n",
        "resp = requests.get(url)\n",
        "message = json.loads(resp.text)['result']\n",
        "chat_id = message[0]['message']['from']['id'] #= 319184502\n",
        "username = message[0]['message']['from']['first_name'] + \" \" +message[0]['message']['from']['last_name']"
      ],
      "metadata": {
        "id": "6SdZmeORYgaH"
      },
      "execution_count": 35,
      "outputs": []
    },
    {
      "cell_type": "code",
      "source": [
        "def openai_chat(prompt):\n",
        "    completions = openai.Completion.create(\n",
        "        engine=\"text-davinci-003\",\n",
        "        prompt=prompt,\n",
        "        max_tokens=1024,\n",
        "        n=1,\n",
        "        temperature=0.5,\n",
        "    )\n",
        "\n",
        "    message = completions.choices[0].text\n",
        "    return message.strip()"
      ],
      "metadata": {
        "id": "hgfKcWYAZSg-"
      },
      "execution_count": 45,
      "outputs": []
    },
    {
      "cell_type": "code",
      "source": [
        "\n",
        "patterns = \"\"\"\n",
        "    NP: {<JJ>*<NN*>+}\n",
        "    {<JJ>*<NN*><CC>*<NN*>+}\n",
        "    \"\"\"\n",
        "\n",
        "NPChunker = nltk.RegexpParser(patterns)\n",
        "\n",
        "def prepare_text(input):\n",
        "    sentences = nltk.sent_tokenize(input)\n",
        "    sentences = [nltk.word_tokenize(sent) for sent in sentences]\n",
        "    sentences = [nltk.pos_tag(sent) for sent in sentences]\n",
        "    sentences = [NPChunker.parse(sent) for sent in sentences]\n",
        "    return sentences\n",
        "\n",
        "\n",
        "def parsed_text_to_NP(sentences):\n",
        "    nps = []\n",
        "    for sent in sentences:\n",
        "        tree = NPChunker.parse(sent)\n",
        "        for subtree in tree.subtrees():\n",
        "            if subtree.label() == 'NP':\n",
        "                t = subtree\n",
        "                t = ' '.join(word for word, tag in t.leaves())\n",
        "                nps.append(t)\n",
        "    return nps\n",
        "\n",
        "\n",
        "def sent_parse(input):\n",
        "    sentences = prepare_text(input)\n",
        "    nps = parsed_text_to_NP(sentences)\n",
        "    return nps\n",
        "\n",
        "def find_nps(text):\n",
        "    prepared = prepare_text(text)\n",
        "    parsed = parsed_text_to_NP(prepared)\n",
        "    final = sent_parse(parsed)"
      ],
      "metadata": {
        "id": "h3vR0fm5bCNy"
      },
      "execution_count": 48,
      "outputs": []
    },
    {
      "cell_type": "code",
      "source": [
        "def parse_the_recipe_name(message):\n",
        "  sent = str(re.split(\":|\\.|\\n|\\!\", message)[0])\n",
        "  matches = []\n",
        "  for i in sent.split():\n",
        "    if i[0].isupper():\n",
        "      regex = \"^[A-Z]\\w*$\" #\"^\\s*(?:\\b[A-Z]+\\b[\\s]*)+(?:[:-])\\s*$\" #\n",
        "      matches.append(re.findall(regex, i))\n",
        "      print(i)\n",
        "  flat_list = [item for sublist in matches[1:] for item in sublist]\n",
        "\n",
        "  recipe_name = ' '.join(map(str,flat_list))\n",
        "  print(recipe_name)\n",
        "  return recipe_name\n",
        "\n",
        "def parse_the_recipe_name_new(message):\n",
        "  sent = str(re.split(\":|\\.|\\n|\\!\", message)[0])\n",
        "  print(sent_parse(sent))\n",
        "  print(sent_parse(sent)[-1])\n",
        "  return sent_parse(sent)[-1]\n"
      ],
      "metadata": {
        "id": "yyCSb_hKa9JF"
      },
      "execution_count": 49,
      "outputs": []
    },
    {
      "cell_type": "code",
      "source": [
        "def make_dir(folder_name):\n",
        "  if not os.path.exists(folder_name):\n",
        "      os.mkdir(folder_name)\n",
        "      return True\n",
        "  return False"
      ],
      "metadata": {
        "id": "jdlFQFFAZqRy"
      },
      "execution_count": 50,
      "outputs": []
    },
    {
      "cell_type": "code",
      "source": [
        "def download_images(recipe_name,path_to_download,chat_id,file_type):\n",
        "  gis = GoogleImagesSearch(api_google_image_key, your_project_cx)\n",
        "  _search_params = {\n",
        "      'q': f'{recipe_name}',\n",
        "      'num':1,\n",
        "      'imagesize':'500x500', #large\n",
        "      'fileType': f'{file_type}' } #jpg|gif|\n",
        "  # search first, then download and resize afterwards:\n",
        "  gis.search(search_params=_search_params,  width=500, height=500)\n",
        "  for image in gis.results():\n",
        "      image.url  # image direct url\n",
        "      print(image.url) \n",
        "      image.referrer_url  # image referrer url (source)   \n",
        "      print(image.referrer_url) \n",
        "      image.download(path_to_download)  # download image\n",
        "      image.path  # downloaded local file path\n",
        "      print(f'image path : {image.path}')\n",
        "      bot.send_photo(chat_id, photo=open(image.path, 'rb'))\n",
        "\n",
        "  print('all the images downloaded successfully')"
      ],
      "metadata": {
        "id": "5nA89CYia-qI"
      },
      "execution_count": 51,
      "outputs": []
    },
    {
      "cell_type": "code",
      "source": [
        "def save_result(path,messasge_to_write):\n",
        "  with open(path, \"w\") as text_file:\n",
        "    text_file.write(messasge_to_write)\n",
        "  print('File saved')\n",
        "  return"
      ],
      "metadata": {
        "id": "3YN23yZvbLMD"
      },
      "execution_count": 52,
      "outputs": []
    },
    {
      "cell_type": "code",
      "source": [
        "def speech_to_text(filename):\n",
        "  # initialize the recognizer\n",
        "  r = sr.Recognizer()\n",
        "  # open the file\n",
        "  with sr.AudioFile(filename) as source:\n",
        "      # listen for the data (load audio to memory)\n",
        "      audio_data = r.record(source)\n",
        "      # recognize (convert from speech to text)\n",
        "      text = r.recognize_google(audio_data)\n",
        "      print(text)\n",
        "      return text"
      ],
      "metadata": {
        "id": "e1Dt4p5QbOWP"
      },
      "execution_count": 53,
      "outputs": []
    },
    {
      "cell_type": "code",
      "source": [
        "def speechToText(file_name):\n",
        "                                                                        \n",
        "    src = f\"{file_name}\"\n",
        "    dst = f\"{file_name}.wav\"\n",
        "    # convert wav to mp3     \n",
        "    # https://pythonbasics.org/convert-mp3-to-wav/                                                       \n",
        "    sound = AudioSegment.from_ogg(src)\n",
        "    sound.export(dst, format=\"wav\")\n",
        "    # Initialize the recognizer  \n",
        "    r = sr.Recognizer()  \n",
        "    AUDIO_FILE = f\"{file_name}.wav\"\n",
        "    with sr.AudioFile(AUDIO_FILE) as source:\n",
        "        audio2 = r.record(source)  # read the entire audio file\n",
        "        MyText = r.recognize_sphinx(audio2) \n",
        "        MyText = MyText.lower() \n",
        "        print(MyText)\n",
        "        return MyText\n",
        "    return -1"
      ],
      "metadata": {
        "id": "9dPTdMvnbO_F"
      },
      "execution_count": 54,
      "outputs": []
    },
    {
      "cell_type": "code",
      "source": [
        "def send_email(fromwho, to, subject, text,path_folder, files=None):\n",
        "    assert isinstance(to, list)\n",
        "    print(\"inside the email function\")\n",
        "    msg = MIMEMultipart()\n",
        "    msg['From'] = str(fromwho) \n",
        "    msg['To'] = COMMASPACE.join(to)\n",
        "    msg['Date'] = formatdate(localtime=True)\n",
        "    msg['Subject'] = subject\n",
        "    msg.attach(MIMEText(text))\n",
        "    for file in files:\n",
        "        combined_file = path_folder +'/' + file\n",
        "        print(combined_file)\n",
        "        part = MIMEBase('application', \"octet-stream\")\n",
        "        part.set_payload(open(combined_file, \"rb\").read())\n",
        "        encoders.encode_base64(part)\n",
        "        part.add_header('Content-Disposition', 'attachment', filename=os.path.basename(combined_file))\n",
        "        msg.attach(part)\n",
        "    fromaddr = fromwho\n",
        "    smtp = smtplib.SMTP('smtp.gmail.com', 587)\n",
        "    smtp.starttls()\n",
        "    smtp.login(fromaddr, email_autenticate)\n",
        "    text = msg.as_string()\n",
        "    smtp.sendmail(fromwho, to, msg.as_string())\n",
        "    smtp.close()"
      ],
      "metadata": {
        "id": "XFmE4sSBbUCB"
      },
      "execution_count": 56,
      "outputs": []
    },
    {
      "cell_type": "code",
      "source": [
        "def convert_to_speach(text_to_convert,file_path,file_name,language = 'en'):\n",
        "  myobj = gTTS(text=text_to_convert, lang=language, slow=False)\n",
        "  myobj.save(f\"{file_path}/{file_name}.mp3\")\n",
        "  os.system(f\"mpg321 {file_path}/{file_name}.mp3\")\n",
        "  return"
      ],
      "metadata": {
        "id": "iAX8ts-NbUwM"
      },
      "execution_count": 57,
      "outputs": []
    },
    {
      "cell_type": "code",
      "source": [
        "def insert_to_DB(mongo_connecting_str,user_name,chat_id_mongo,user_email,type_wanted,json_result,query):\n",
        "    client = MongoClient(mongo_connecting_str);\n",
        "    print(\"Connection Successful\")\n",
        "    collection_name =  client['Yos'].get_collection('NayaProject')\n",
        "    item_1 = {\n",
        "            \"user_name\" : user_name,\n",
        "            \"chat_id\" : chat_id_mongo,\n",
        "            \"user_email\" : user_email,\n",
        "            \"type_wanted\" : type_wanted,\n",
        "            \"result\" : json_result,\n",
        "            \"query\":query\n",
        "          }\n",
        "    collection_name.insert_one(item_1)\n",
        "    print(\"inserted succussfully\")\n",
        "    return"
      ],
      "metadata": {
        "id": "c-5N5vbkbyTZ"
      },
      "execution_count": 58,
      "outputs": []
    },
    {
      "cell_type": "code",
      "source": [
        "def get_results_and_image(query,root_dir,message_chat_id,type_wanted,mongo_connecting_str):\n",
        "   resu = str(openai_chat(query))\n",
        "   print(type(resu))\n",
        "   print(resu)\n",
        "   recipe_name = parse_the_recipe_name(resu)\n",
        "   print(sent_parse(resu))\n",
        "   if recipe_name == \"\" :\n",
        "     recipe_name = query.split(' ')[-1]\n",
        "     print(\"inside the false\")\n",
        "   print(recipe_name)\n",
        "   path = os.path.join(root_dir, recipe_name)\n",
        "   recipe_dir = make_dir(os.path.join(root_dir, recipe_name))\n",
        "   print(recipe_dir)\n",
        "   print(f\"trying to save the result into {path}/{recipe_name}.txt\")\n",
        "   save_result(path+f'/{recipe_name}.txt',resu)\n",
        "   from_email ='******@gmail.com'\n",
        "\n",
        "   if(type_wanted == \"Audio\" ):\n",
        "     convert_to_speach(resu,path,recipe_name,language = 'en')\n",
        "     print(f\"{path}/{recipe_name}.mp3\")\n",
        "     bot.send_audio(chat_id=message_chat_id, audio=open(f\"{path}/{recipe_name}.mp3\", 'rb'))\n",
        "   else:\n",
        "      bot.send_message(message_chat_id,str(replace_for_result(resu)) ,parse_mode=\"MarkdownV2\")\n",
        "\n",
        "  \n",
        "   try:\n",
        "     download_images(recipe_name,path,message_chat_id,'png')\n",
        "     list_of_files_to_send = os.listdir(path)\n",
        "     if user_email != '' :\n",
        "       try:\n",
        "          print(list_of_files_to_send)\n",
        "          send_email(from_email,[user_email], query, 'Here is the result for your query', path, list_of_files_to_send)\n",
        "          bot.send_message(message_chat_id, f'the files sent succussfully to your mail')\n",
        "\n",
        "       except Exception as e :\n",
        "          bot.send_message(message_chat_id, f'some error occured : {str(e)}')   \n",
        "     chat_id_mongo = str(message_chat_id)\n",
        "     user_email_add = user_email if user_email != '' else \"user_email\"\n",
        "     insert_to_DB(mongo_connecting_str,username,chat_id_mongo,user_email_add,type_wanted,f\"{{'result':'{resu}}}\",query)\n",
        "     bot.send_message(message_chat_id, f'inserted succussfully to MongoDB')\n",
        "\n",
        "   except Exception as e:\n",
        "     bot.send_message(message_chat_id, f'cant insert it to MongoDB The Error is: {e}')\n",
        "   return\n"
      ],
      "metadata": {
        "id": "IIl7DoXrb1BT"
      },
      "execution_count": 59,
      "outputs": []
    },
    {
      "cell_type": "code",
      "source": [
        "%rm -rf '/content/Recipes'\n",
        "%mkdir '/content/Recipes'"
      ],
      "metadata": {
        "id": "StabTaJPb6-G"
      },
      "execution_count": 60,
      "outputs": []
    },
    {
      "cell_type": "markdown",
      "source": [
        "#### 'how to make icecream' \n",
        "#### 'how to make pasta'\n",
        "#### 'how to make salad'\n",
        "#### which recipe can i do with tomatoes and cucumbers and cheese\n",
        "#### which recipe can i do with water tomatoes and cheese\n",
        "####how to make coffee\n",
        "####how to make greek salad\n"
      ],
      "metadata": {
        "id": "C1KF_2Ihb9ky"
      }
    },
    {
      "cell_type": "code",
      "source": [
        "\n",
        "\n",
        "def replace_for_result(some_str):\n",
        "  return some_str.replace('.', '\\.').replace('=', '\\=').replace('{', '\\{').replace('}', '\\}').replace('(', '\\(').replace(')', '\\)').replace('-', '\\-').replace('`', '').replace('*', '').replace('#', '\\#').replace('!', '\\!')\n",
        "\n",
        "root_dir = \"/content/Recipes\"\n",
        "\n",
        "\n",
        "\n",
        "bot = telebot.TeleBot(test_token)\n",
        "\n",
        "@bot.message_handler(content_types=['voice'])\n",
        "def voice_processing(message):\n",
        "    file_info = bot.get_file(message.voice.file_id)\n",
        "    downloaded_file = bot.download_file(file_info.file_path)\n",
        "    file_name = f'{random.randint(100000,999999)}.ogg'\n",
        "    with open(file_name, 'wb') as new_file:\n",
        "        new_file.write(downloaded_file)\n",
        "    bot.reply_to(message, \"File saved\")\n",
        "    print(f'/content/{file_name.split(\".\")[0]}')\n",
        "    text_from_voice = speechToText(f'/content/{file_name}') \n",
        "    # text_from_voice = speech_to_text('/content/new_file.ogg') \n",
        "    bot.reply_to(message, f'You Said : {text_from_voice}')\n",
        "\n",
        "\n",
        "@bot.message_handler(commands=['help'])\n",
        "def help(message):\n",
        "     bot.reply_to(message,\"\"\"Available Commands :-\n",
        "    /email - insert your email address \n",
        "    /data_to_excel - For getting all the data from mongoDB in excel file\"\"\")\n",
        "\n",
        "\n",
        "@bot.message_handler(commands=['gif'])\n",
        "def voice_processing(message):\n",
        "   bot.reply_to(message, f'gif : {message.text.split(\"/gif\")[1:]}')\n",
        "   dir = '/content/new'\n",
        "   query = ' '.join(message.text.split('/gif')[1:]).lstrip()\n",
        "   download_images(query,dir,message.chat.id,'gif')\n",
        "\n",
        "@bot.message_handler(commands=['start'])\n",
        "def start(message):\n",
        "    bot.reply_to(message,\"\"\"Available Commands :-\n",
        "    /email - insert your email address \n",
        "    /data_to_excel - getting all data from mongoDB in excel.\n",
        "    /myemail - what is my email address\n",
        "    \"\"\")\n",
        "\n",
        "\n",
        "@bot.message_handler(commands=['email'])\n",
        "def get_email(message):\n",
        "    global user_email \n",
        "    print(message.text)\n",
        "    user_email = message.text.split(' ')[1]\n",
        "    print(user_email)\n",
        "    bot.reply_to(message, f'Your Email : {user_email}')\n",
        "\n",
        "\n",
        "@bot.message_handler(commands=['myemail'])\n",
        "def get_email(message):\n",
        "    try :\n",
        "        bot.reply_to(message, f'Your Email : {user_email}')\n",
        "    except Exception as error:\n",
        "          bot.reply_to(message, 'Please insert your email address')\n",
        "\n",
        "\n",
        "#dont forget to add your ip into mongoDB\n",
        "@bot.message_handler(commands=['data_to_excel'])\n",
        "def get_excel(message):\n",
        "    random_name =''.join(random.choices(string.ascii_lowercase, k=10))\n",
        "    client = MongoClient(mongo_connecting_str);\n",
        "    collection_name =  client['Yos'].get_collection('NayaProject')\n",
        "    item_details = collection_name.find()\n",
        "    pd.DataFrame(item_details).to_excel(f\"{random_name}.xlsx\")\n",
        "    document = open( f\"/content/{random_name}.xlsx\", 'rb')\n",
        "    bot.send_document(message.chat.id, document)\n",
        "\n",
        "\n",
        "def makeKeyboard():\n",
        "    markup = types.ReplyKeyboardMarkup()\n",
        "    markup.add(types.InlineKeyboardButton(text=\"Text\",callback_data=\"Text\"),\n",
        "    types.InlineKeyboardButton(text=\"Audio\",callback_data=\"Audio\"))\n",
        "    return markup \n",
        "\n",
        "\n",
        "@bot.message_handler(content_types=['text'])\n",
        "def handle_command_adminwindow(message):\n",
        "  global query \n",
        "  global message_chat_id\n",
        "  global recipe_name\n",
        "\n",
        "  if message.text == \"Audio\":\n",
        "      print(message.text)\n",
        "      print(query)\n",
        "      bot.send_chat_action(message_chat_id, 'typing')\n",
        "      get_results_and_image(query,root_dir,message_chat_id,\"Audio\",mongo_connecting_str)\n",
        "      return\n",
        "\n",
        "  elif message.text == \"Text\":\n",
        "       print(message.text)\n",
        "       bot.send_chat_action(message_chat_id, 'typing')\n",
        "       get_results_and_image(query,root_dir,message_chat_id,\"Text\",mongo_connecting_str)\n",
        "       return\n",
        "  else :\n",
        "      bot.send_message(chat_id=message.chat.id,\n",
        "                text=\"How Do You Want Your Result Format ?\",\n",
        "                reply_markup=makeKeyboard(),\n",
        "                parse_mode='HTML') \n",
        "      query = message.text\n",
        "      message_chat_id = message.chat.id\n",
        "      print(query)\n",
        "bot.polling()\n",
        "\n"
      ],
      "metadata": {
        "colab": {
          "base_uri": "https://localhost:8080/"
        },
        "id": "qyrtzDuSb-Nd",
        "outputId": "07d0560a-2925-4890-b22d-ddebf094e76e"
      },
      "execution_count": 70,
      "outputs": [
        {
          "output_type": "stream",
          "name": "stdout",
          "text": [
            "how to make greek salad\n",
            "Text\n",
            "<class 'str'>\n",
            "1. Start by prepping your vegetables. Chop the cucumber, red onion, and tomatoes into small cubes. Slice the olives and bell pepper into thin slices.\n",
            "\n",
            "2. In a large bowl, combine the cucumber, red onion, tomatoes, olives, bell pepper, and feta cheese.\n",
            "\n",
            "3. In a small bowl, whisk together the olive oil, red wine vinegar, oregano, garlic powder, salt, and pepper.\n",
            "\n",
            "4. Pour the dressing over the vegetables and toss to combine.\n",
            "\n",
            "5. Serve the Greek salad with a sprinkle of oregano and a few slices of lemon, if desired. Enjoy!\n",
            "\n",
            "['Start', 'cucumber', 'red onion', 'large bowl', 'cucumber', 'red onion', 'pepper', 'feta cheese', 'small bowl', 'whisk', 'olive oil', 'red wine vinegar', 'oregano', 'garlic powder', 'salt', 'pepper', 'dressing', 'toss', 'Greek salad', 'sprinkle', 'oregano', 'lemon', 'Enjoy']\n",
            "inside the false\n",
            "salad\n",
            "False\n",
            "trying to save the result into /content/Recipes/salad/salad.txt\n",
            "File saved\n",
            "https://images.getrecipekit.com/20210728051512-IG%20Peruvian%20Solterito%20Salad.png?aspect_ratio=1:1&quality=90&auto_optimize=medium\n",
            "https://www.whiskware.com/blogs/recipes/peruvian-solterito-salad\n",
            "image path : /content/Recipes/salad/20210728051512-IG%20Peruvian%20Solterito%20Salad.png\n",
            "all the images downloaded successfully\n",
            "['20210728051512-IG%20Peruvian%20Solterito%20Salad.png', 'salad.txt']\n",
            "inside the email function\n",
            "/content/Recipes/salad/20210728051512-IG%20Peruvian%20Solterito%20Salad.png\n",
            "/content/Recipes/salad/salad.txt\n",
            "Connection Successful\n",
            "how to make coffee\n",
            "Audo\n",
            "Audio\n",
            "Audo\n",
            "<class 'str'>\n",
            "in\n",
            "\n",
            "Audoin was a Frankish king of the Merovingian dynasty who ruled the kingdom of Austrasia from 626 to 629. He was the son of Dagobert I and was succeeded by his brother, Clovis II. Audoin is remembered for his military successes against the Slavs and his efforts to strengthen the kingdom of Austrasia. He was also known for his religious reforms and his support for the monasteries of Luxeuil and Corbie.\n",
            "\n",
            "['Frankish king', 'dynasty', 'kingdom', 'son', 'brother', 'kingdom', 'support']\n",
            "inside the false\n",
            "Audo\n",
            "True\n",
            "trying to save the result into /content/Recipes/Audo/Audo.txt\n",
            "File saved\n",
            "/content/Recipes/Audo/Audo.mp3\n",
            "https://images.squarespace-cdn.com/content/v1/5c8bbc0865019f9f38cfc386/1560866682063-DVRNXX6SHG4X2HYVNL18/theaudo_logo_main.png\n",
            "https://theaudo.squarespace.com/\n",
            "image path : /content/Recipes/Audo/theaudo_logo_main.png\n",
            "all the images downloaded successfully\n",
            "['Audo.txt', 'theaudo_logo_main.png', 'Audo.mp3']\n",
            "inside the email function\n",
            "/content/Recipes/Audo/Audo.txt\n",
            "/content/Recipes/Audo/theaudo_logo_main.png\n",
            "/content/Recipes/Audo/Audo.mp3\n",
            "Connection Successful\n",
            "inserted succussfully\n",
            "how to make coffee\n",
            "Text\n",
            "<class 'str'>\n",
            "1. Heat water: Start by heating up some water. You can use a kettle, a coffee maker, or a stovetop pot. \n",
            "\n",
            "2. Grind coffee beans: Measure out the amount of coffee beans you want to use and grind them to a medium-fine consistency.\n",
            "\n",
            "3. Add coffee to filter: Place a filter in your coffee maker and add the ground coffee to it.\n",
            "\n",
            "4. Pour in hot water: Slowly pour the hot water over the grounds, making sure to evenly distribute the water.\n",
            "\n",
            "5. Let it steep: Allow the coffee to steep for about 4 minutes.\n",
            "\n",
            "6. Remove filter: Carefully remove the filter and discard the used grounds.\n",
            "\n",
            "7. Pour and enjoy: Pour the coffee into a mug and enjoy!\n",
            "\n",
            "['water', 'Start', 'water', 'kettle', 'coffee maker', 'stovetop pot', 'coffee', 'Measure', 'amount', 'coffee', 'medium-fine consistency', 'coffee', 'Place', 'filter', 'coffee maker', 'ground coffee', 'hot water', 'hot water', 'water', 'coffee', 'filter', 'filter', 'enjoy', 'coffee', 'mug', 'enjoy']\n",
            "inside the false\n",
            "coffee\n",
            "True\n",
            "trying to save the result into /content/Recipes/coffee/coffee.txt\n",
            "File saved\n",
            "https://upload.wikimedia.org/wikipedia/commons/thumb/6/60/Italian-coffee-maker.svg/1200px-Italian-coffee-maker.svg.png\n",
            "https://en.wikipedia.org/wiki/Coffeemaker\n",
            "image path : /content/Recipes/coffee/1200px-Italian-coffee-maker.svg.png\n",
            "all the images downloaded successfully\n",
            "['coffee.txt', '1200px-Italian-coffee-maker.svg.png']\n",
            "inside the email function\n",
            "/content/Recipes/coffee/coffee.txt\n",
            "/content/Recipes/coffee/1200px-Italian-coffee-maker.svg.png\n",
            "Connection Successful\n",
            "inserted succussfully\n"
          ]
        }
      ]
    },
    {
      "cell_type": "code",
      "source": [
        "client = MongoClient(mongo_connecting_str);\n",
        "collection_name =  client['Yos'].get_collection('NayaProject')\n",
        " \n",
        "item_details = collection_name.find()\n",
        "for item in item_details:\n",
        "   print(item)"
      ],
      "metadata": {
        "id": "FPR7FoSuc6-g"
      },
      "execution_count": null,
      "outputs": []
    }
  ]
}
